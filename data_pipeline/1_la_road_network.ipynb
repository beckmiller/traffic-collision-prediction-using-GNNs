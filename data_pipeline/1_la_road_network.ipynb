{
 "cells": [
  {
   "cell_type": "code",
   "execution_count": 9,
   "metadata": {},
   "outputs": [],
   "source": [
    "#--------------- Importing Libraries -------------#\n",
    "\n",
    "import pandas as pd\n",
    "import numpy as np\n",
    "import os\n",
    "from os.path import dirname\n",
    "\n",
    "\n",
    "#--------------- Initializing Parameters ----------#\n",
    "\n",
    "path = dirname(os.getcwd()) + \"/data\"\n",
    "state_name = \"CA\"\n",
    "path_stats = path + \"/data/\" + state_name + \"/\"\n"
   ]
  },
  {
   "cell_type": "code",
   "execution_count": 10,
   "metadata": {},
   "outputs": [
    {
     "name": "stdout",
     "output_type": "stream",
     "text": [
      "/Users/beck/Documents/GitHub/cs-470-course-project/data\n"
     ]
    }
   ],
   "source": [
    "print(path)"
   ]
  },
  {
   "cell_type": "code",
   "execution_count": 7,
   "metadata": {},
   "outputs": [],
   "source": [
    "\n",
    "\n",
    "#--------------- Functions ------------------------#\n",
    "\n",
    "def concat_files(path, final_file_name):\n",
    "    '''\n",
    "    Combines all files in a directory and saves it in a single file\n",
    "    Parameters:\n",
    "        path (str): directory where all independent files are saved\n",
    "        final_file_name (str): path of the final file\n",
    "    '''\n",
    "    count = 0\n",
    "    for file_name in os.listdir(path):\n",
    "        if file_name.endswith('.csv'):\n",
    "            try:\n",
    "                df = pd.concat([df, pd.read_csv(path + file_name, low_memory=False)])\n",
    "            except:\n",
    "                df = pd.read_csv(path + file_name, low_memory=False)\n",
    "            count += 1\n",
    "    df = df.drop_duplicates().reset_index(drop=True)\n",
    "    df.to_csv(final_file_name, index=False)\n",
    "\n",
    "\n",
    "def concat_files_one_subfolder(path):\n",
    "    '''\n",
    "    Combines all files in a directory and saves it in a single file\n",
    "    Parameters:\n",
    "        path (str): directory where all independent files are saved\n",
    "    '''\n",
    "    for folder in os.listdir(path):\n",
    "        full_path = os.path.join(path, folder)\n",
    "        if os.path.isdir(full_path):\n",
    "            try:\n",
    "                edge_df = pd.concat([edge_df, pd.read_csv(os.path.join(full_path, \"edge_list.csv\"), low_memory=False)])\n",
    "            except:\n",
    "                edge_df = pd.read_csv(os.path.join(full_path, \"edge_list.csv\"), low_memory=False)\n",
    "\n",
    "    edge_df = edge_df.drop_duplicates().reset_index(drop=True)\n",
    "    edge_df = edge_df.rename(columns={\"u\": \"node_1\", \"v\": \"node_2\"})\n",
    "\n",
    "    for folder in os.listdir(path):\n",
    "        full_path = os.path.join(path, folder)\n",
    "        if os.path.isdir(full_path):\n",
    "            try:\n",
    "                node_df = pd.concat([node_df, pd.read_csv(os.path.join(full_path, \"node_list.csv\"), low_memory=False)])\n",
    "            except:\n",
    "                node_df = pd.read_csv(os.path.join(full_path, \"node_list.csv\"), low_memory=False)\n",
    "\n",
    "    node_df = node_df.drop_duplicates().reset_index(drop=True)\n",
    "    node_df = node_df.rename(columns={\"osmid\": \"node_id\"})\n",
    "\n",
    "    return node_df, edge_df\n",
    "\n",
    "\n",
    "def concat_files_two_subfolder(path):\n",
    "    '''\n",
    "    Combines all files in a directory and saves it in a single file\n",
    "    Parameters:\n",
    "        path (str): directory where all independent files are saved\n",
    "    '''\n",
    "    for folder in os.listdir(path):\n",
    "        full_folder_path = os.path.join(path, folder)\n",
    "        if os.path.isdir(full_folder_path):\n",
    "            for subfolder in os.listdir(full_folder_path):\n",
    "                full_subfolder_path = os.path.join(full_folder_path, subfolder)\n",
    "                if os.path.isdir(full_subfolder_path):\n",
    "                    try:\n",
    "                        edge_df = pd.concat([edge_df, pd.read_csv(os.path.join(full_subfolder_path, \"edge_list.csv\"), low_memory=False)])\n",
    "                    except:\n",
    "                        edge_df = pd.read_csv(os.path.join(full_subfolder_path, \"edge_list.csv\"), low_memory=False)\n",
    "\n",
    "    edge_df = edge_df.drop_duplicates().reset_index(drop=True)\n",
    "    edge_df = edge_df.rename(columns={\"u\": \"node_1\", \"v\": \"node_2\"})\n",
    "\n",
    "    for folder in os.listdir(path):\n",
    "        full_folder_path = os.path.join(path, folder)\n",
    "        if os.path.isdir(full_folder_path):\n",
    "            for subfolder in os.listdir(full_folder_path):\n",
    "                full_subfolder_path = os.path.join(full_folder_path, subfolder)\n",
    "                if os.path.isdir(full_subfolder_path):\n",
    "                    try:\n",
    "                        node_df = pd.concat([node_df, pd.read_csv(os.path.join(full_subfolder_path, \"node_list.csv\"), low_memory=False)])\n",
    "                    except:\n",
    "                        node_df = pd.read_csv(os.path.join(full_subfolder_path, \"node_list.csv\"), low_memory=False)\n",
    "\n",
    "    node_df = node_df.drop_duplicates().reset_index(drop=True)\n",
    "    node_df = node_df.rename(columns={\"osmid\": \"node_id\"})\n",
    "\n",
    "    return node_df, edge_df\n",
    "\n"
   ]
  },
  {
   "cell_type": "code",
   "execution_count": 8,
   "metadata": {},
   "outputs": [
    {
     "name": "stdout",
     "output_type": "stream",
     "text": [
      "\n",
      "Append all files\n",
      "\tNodes\n"
     ]
    },
    {
     "ename": "FileNotFoundError",
     "evalue": "[Errno 2] No such file or directory: '/Users/beck/Documents/GitHub/cs-470-course-project/Road_Networks/CA/Road_Network_Level/Nodes/'",
     "output_type": "error",
     "traceback": [
      "\u001b[0;31m---------------------------------------------------------------------------\u001b[0m",
      "\u001b[0;31mFileNotFoundError\u001b[0m                         Traceback (most recent call last)",
      "Cell \u001b[0;32mIn[8], line 6\u001b[0m\n\u001b[1;32m      3\u001b[0m \u001b[38;5;28mprint\u001b[39m(\u001b[38;5;124m\"\u001b[39m\u001b[38;5;130;01m\\n\u001b[39;00m\u001b[38;5;124mAppend all files\u001b[39m\u001b[38;5;124m\"\u001b[39m)\n\u001b[1;32m      5\u001b[0m \u001b[38;5;28mprint\u001b[39m(\u001b[38;5;124m\"\u001b[39m\u001b[38;5;130;01m\\t\u001b[39;00m\u001b[38;5;124mNodes\u001b[39m\u001b[38;5;124m\"\u001b[39m)\n\u001b[0;32m----> 6\u001b[0m \u001b[43mconcat_files\u001b[49m\u001b[43m(\u001b[49m\u001b[43mpath_stats\u001b[49m\u001b[43m \u001b[49m\u001b[38;5;241;43m+\u001b[39;49m\u001b[43m \u001b[49m\u001b[38;5;124;43m\"\u001b[39;49m\u001b[38;5;124;43mRoad_Network_Level/Nodes/\u001b[39;49m\u001b[38;5;124;43m\"\u001b[39;49m\u001b[43m,\u001b[49m\u001b[43m \u001b[49m\u001b[43mpath_stats\u001b[49m\u001b[43m \u001b[49m\u001b[38;5;241;43m+\u001b[39;49m\u001b[43m \u001b[49m\u001b[38;5;124;43m\"\u001b[39;49m\u001b[38;5;124;43mRoad_Network_Nodes_\u001b[39;49m\u001b[38;5;124;43m\"\u001b[39;49m\u001b[43m \u001b[49m\u001b[38;5;241;43m+\u001b[39;49m\u001b[43m \u001b[49m\u001b[43mstate_name\u001b[49m\u001b[43m \u001b[49m\u001b[38;5;241;43m+\u001b[39;49m\u001b[43m \u001b[49m\u001b[38;5;124;43m\"\u001b[39;49m\u001b[38;5;124;43m.csv\u001b[39;49m\u001b[38;5;124;43m\"\u001b[39;49m\u001b[43m)\u001b[49m\n\u001b[1;32m      8\u001b[0m \u001b[38;5;28mprint\u001b[39m(\u001b[38;5;124m\"\u001b[39m\u001b[38;5;130;01m\\t\u001b[39;00m\u001b[38;5;124mEdges\u001b[39m\u001b[38;5;124m\"\u001b[39m)\n\u001b[1;32m      9\u001b[0m concat_files(path_stats \u001b[38;5;241m+\u001b[39m \u001b[38;5;124m\"\u001b[39m\u001b[38;5;124mRoad_Network_Level/Edges/\u001b[39m\u001b[38;5;124m\"\u001b[39m, path_stats \u001b[38;5;241m+\u001b[39m \u001b[38;5;124m\"\u001b[39m\u001b[38;5;124mRoad_Network_Edges_\u001b[39m\u001b[38;5;124m\"\u001b[39m \u001b[38;5;241m+\u001b[39m state_name \u001b[38;5;241m+\u001b[39m \u001b[38;5;124m\"\u001b[39m\u001b[38;5;124m.csv\u001b[39m\u001b[38;5;124m\"\u001b[39m)\n",
      "Cell \u001b[0;32mIn[7], line 11\u001b[0m, in \u001b[0;36mconcat_files\u001b[0;34m(path, final_file_name)\u001b[0m\n\u001b[1;32m      4\u001b[0m \u001b[38;5;250m\u001b[39m\u001b[38;5;124;03m'''\u001b[39;00m\n\u001b[1;32m      5\u001b[0m \u001b[38;5;124;03mCombines all files in a directory and saves it in a single file\u001b[39;00m\n\u001b[1;32m      6\u001b[0m \u001b[38;5;124;03mParameters:\u001b[39;00m\n\u001b[1;32m      7\u001b[0m \u001b[38;5;124;03m    path (str): directory where all independent files are saved\u001b[39;00m\n\u001b[1;32m      8\u001b[0m \u001b[38;5;124;03m    final_file_name (str): path of the final file\u001b[39;00m\n\u001b[1;32m      9\u001b[0m \u001b[38;5;124;03m'''\u001b[39;00m\n\u001b[1;32m     10\u001b[0m count \u001b[38;5;241m=\u001b[39m \u001b[38;5;241m0\u001b[39m\n\u001b[0;32m---> 11\u001b[0m \u001b[38;5;28;01mfor\u001b[39;00m file_name \u001b[38;5;129;01min\u001b[39;00m \u001b[43mos\u001b[49m\u001b[38;5;241;43m.\u001b[39;49m\u001b[43mlistdir\u001b[49m\u001b[43m(\u001b[49m\u001b[43mpath\u001b[49m\u001b[43m)\u001b[49m:\n\u001b[1;32m     12\u001b[0m     \u001b[38;5;28;01mif\u001b[39;00m file_name\u001b[38;5;241m.\u001b[39mendswith(\u001b[38;5;124m'\u001b[39m\u001b[38;5;124m.csv\u001b[39m\u001b[38;5;124m'\u001b[39m):\n\u001b[1;32m     13\u001b[0m         \u001b[38;5;28;01mtry\u001b[39;00m:\n",
      "\u001b[0;31mFileNotFoundError\u001b[0m: [Errno 2] No such file or directory: '/Users/beck/Documents/GitHub/cs-470-course-project/Road_Networks/CA/Road_Network_Level/Nodes/'"
     ]
    }
   ],
   "source": [
    "#----------- Concatenate the data --------------#\n",
    "\n",
    "print(\"\\nAppend all files\")\n",
    "\n",
    "print(\"\\tNodes\")\n",
    "concat_files(path_stats + \"Road_Network_Level/Nodes/\", path_stats + \"Road_Network_Nodes_\" + state_name + \".csv\")\n",
    "\n",
    "print(\"\\tEdges\")\n",
    "concat_files(path_stats + \"Road_Network_Level/Edges/\", path_stats + \"Road_Network_Edges_\" + state_name + \".csv\")\n",
    "\n",
    "\n",
    "print(\"\\nRemove Duplicates and Save:\")\n",
    "\n",
    "print(\"\\tNodes\")\n",
    "df_nodes = pd.read_csv(path_stats + \"Road_Network_Nodes_\" + state_name + \".csv\", low_memory=False)\n",
    "df_nodes = df_nodes.drop_duplicates([\"node_id\"], keep=\"last\")[[\"node_id\", \"x\", \"y\"]]\n",
    "df_nodes.to_csv(path_stats + \"Road_Network_Nodes_\" + state_name + \".csv\", index=False)\n",
    "\n",
    "print(\"\\tEdges\")\n",
    "df_edges = pd.read_csv(path_stats + \"Road_Network_Edges_\" + state_name + \".csv\", low_memory=False)\n",
    "df_edges = df_edges.drop_duplicates([\"node_1\", \"node_2\"], keep=\"last\")[[\"node_1\", \"node_2\", \"oneway\", \"highway\", \"name\", \"length\"]]\n",
    "df_edges.to_csv(path_stats + \"Road_Network_Edges_\" + state_name + \".csv\", index=False)"
   ]
  },
  {
   "cell_type": "code",
   "execution_count": null,
   "metadata": {},
   "outputs": [],
   "source": [
    "#------------- Load Level-Wise Road Networks ---------------#\n",
    "\n",
    "print(\"\\nRoad Network of every Level:\")\n",
    "\n",
    "print(\"\\tCities\")\n",
    "node_df, edge_df = concat_files_one_subfolder(path_stats + \"Harvard Dataverse/\" + state_name + \"-cities-street_networks-node_edge_lists/\")\n",
    "node_df.to_csv(path_stats + \"Road_Network_Level/Nodes/nodes_cities.csv\", index=False)\n",
    "edge_df.to_csv(path_stats + \"Road_Network_Level/Edges/edges_cities.csv\", index=False)\n",
    "\n",
    "print(\"\\tCounties\")\n",
    "node_df, edge_df = concat_files_one_subfolder(path_stats + \"Harvard Dataverse/\" + state_name + \"-counties-street_networks-node_edge_lists/\")\n",
    "node_df.to_csv(path_stats + \"Road_Network_Level/Nodes/nodes_counties.csv\", index=False)\n",
    "edge_df.to_csv(path_stats + \"Road_Network_Level/Edges/edges_counties.csv\", index=False)\n",
    "\n",
    "print(\"\\tNeighborhoods\")\n",
    "node_df, edge_df = concat_files_two_subfolder(path_stats + \"Harvard Dataverse/\" + state_name + \"-neighborhoods-street_networks-node_edge_lists/\")\n",
    "node_df.to_csv(path_stats + \"Road_Network_Level/Nodes/nodes_neighborhoods.csv\", index=False)\n",
    "edge_df.to_csv(path_stats + \"Road_Network_Level/Edges/edges_neighborhoods.csv\", index=False)\n",
    "\n",
    "print(\"\\tTracts\")\n",
    "node_df, edge_df = concat_files_one_subfolder(path_stats + \"Harvard Dataverse/\" + state_name + \"-tracts-street_networks-node_edge_lists/\")\n",
    "node_df.to_csv(path_stats + \"Road_Network_Level/Nodes/nodes_tracts.csv\", index=False)\n",
    "edge_df.to_csv(path_stats + \"Road_Network_Level/Edges/edges_tracts.csv\", index=False)\n",
    "\n",
    "print(\"\\tUrbanized Areas\")\n",
    "node_df, edge_df = concat_files_one_subfolder(path_stats + \"Harvard Dataverse/\" + state_name + \"-urbanized_areas-street_networks-node_edge_lists/\")\n",
    "node_df.to_csv(path_stats + \"Road_Network_Level/Nodes/nodes_urbanized_areas.csv\", index=False)\n",
    "edge_df.to_csv(path_stats + \"Road_Network_Level/Edges/edges_urbanized_areas.csv\", index=False)\n"
   ]
  },
  {
   "cell_type": "code",
   "execution_count": null,
   "metadata": {},
   "outputs": [],
   "source": []
  }
 ],
 "metadata": {
  "kernelspec": {
   "display_name": "cs470",
   "language": "python",
   "name": "python3"
  },
  "language_info": {
   "codemirror_mode": {
    "name": "ipython",
    "version": 3
   },
   "file_extension": ".py",
   "mimetype": "text/x-python",
   "name": "python",
   "nbconvert_exporter": "python",
   "pygments_lexer": "ipython3",
   "version": "3.12.2"
  }
 },
 "nbformat": 4,
 "nbformat_minor": 2
}
